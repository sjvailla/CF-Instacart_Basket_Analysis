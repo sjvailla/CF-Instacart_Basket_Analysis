{
 "cells": [
  {
   "cell_type": "markdown",
   "id": "d6e7fa6a",
   "metadata": {},
   "source": [
    "#01. Import libraries"
   ]
  },
  {
   "cell_type": "code",
   "execution_count": 1,
   "id": "02e5b74d",
   "metadata": {},
   "outputs": [],
   "source": [
    "# Import libraries\n",
    "import pandas as pd\n",
    "import numpy as np\n",
    "import os"
   ]
  },
  {
   "cell_type": "markdown",
   "id": "603dd1e1",
   "metadata": {},
   "source": [
    "#02. Data Types"
   ]
  },
  {
   "cell_type": "code",
   "execution_count": 2,
   "id": "50e7627c",
   "metadata": {},
   "outputs": [],
   "source": [
    "x = 75"
   ]
  },
  {
   "cell_type": "code",
   "execution_count": 3,
   "id": "ab8f31e8",
   "metadata": {},
   "outputs": [],
   "source": [
    "y = 25"
   ]
  },
  {
   "cell_type": "code",
   "execution_count": 4,
   "id": "3bfc6759",
   "metadata": {},
   "outputs": [
    {
     "data": {
      "text/plain": [
       "100"
      ]
     },
     "execution_count": 4,
     "metadata": {},
     "output_type": "execute_result"
    }
   ],
   "source": [
    "x + y"
   ]
  },
  {
   "cell_type": "code",
   "execution_count": 5,
   "id": "6c69ed17",
   "metadata": {},
   "outputs": [],
   "source": [
    "z = 150"
   ]
  },
  {
   "cell_type": "code",
   "execution_count": 6,
   "id": "82e0c42f",
   "metadata": {},
   "outputs": [
    {
     "data": {
      "text/plain": [
       "100"
      ]
     },
     "execution_count": 6,
     "metadata": {},
     "output_type": "execute_result"
    }
   ],
   "source": [
    "z - (y * 2)"
   ]
  },
  {
   "cell_type": "code",
   "execution_count": 7,
   "id": "b6510cbf",
   "metadata": {},
   "outputs": [
    {
     "data": {
      "text/plain": [
       "100"
      ]
     },
     "execution_count": 7,
     "metadata": {},
     "output_type": "execute_result"
    }
   ],
   "source": [
    "z - (x - y)"
   ]
  },
  {
   "cell_type": "code",
   "execution_count": 8,
   "id": "6a0b4610",
   "metadata": {},
   "outputs": [],
   "source": [
    "q = 3.14"
   ]
  },
  {
   "cell_type": "code",
   "execution_count": 9,
   "id": "fe04679f",
   "metadata": {},
   "outputs": [],
   "source": [
    "w = 1.17"
   ]
  },
  {
   "cell_type": "code",
   "execution_count": 33,
   "id": "ac0f9e14",
   "metadata": {},
   "outputs": [
    {
     "data": {
      "text/plain": [
       "2.683760683760684"
      ]
     },
     "execution_count": 33,
     "metadata": {},
     "output_type": "execute_result"
    }
   ],
   "source": [
    "q / w"
   ]
  },
  {
   "cell_type": "code",
   "execution_count": 19,
   "id": "efe4ac65",
   "metadata": {},
   "outputs": [],
   "source": [
    "e = 'Cor'"
   ]
  },
  {
   "cell_type": "code",
   "execution_count": 17,
   "id": "f21aeb1f",
   "metadata": {},
   "outputs": [],
   "source": [
    "r = 'gi'"
   ]
  },
  {
   "cell_type": "code",
   "execution_count": 20,
   "id": "d94bb380",
   "metadata": {},
   "outputs": [
    {
     "data": {
      "text/plain": [
       "'Corgi'"
      ]
     },
     "execution_count": 20,
     "metadata": {},
     "output_type": "execute_result"
    }
   ],
   "source": [
    "e + r"
   ]
  },
  {
   "cell_type": "code",
   "execution_count": 22,
   "id": "eef69459",
   "metadata": {},
   "outputs": [],
   "source": [
    "a = 'We are'"
   ]
  },
  {
   "cell_type": "code",
   "execution_count": 23,
   "id": "8a547bb3",
   "metadata": {},
   "outputs": [],
   "source": [
    "s = ' in'"
   ]
  },
  {
   "cell_type": "code",
   "execution_count": 24,
   "id": "da26b6ad",
   "metadata": {},
   "outputs": [],
   "source": [
    "d = ' uncharted'"
   ]
  },
  {
   "cell_type": "code",
   "execution_count": 25,
   "id": "e00f8787",
   "metadata": {},
   "outputs": [],
   "source": [
    "f = ' waters'"
   ]
  },
  {
   "cell_type": "code",
   "execution_count": 26,
   "id": "96e29137",
   "metadata": {},
   "outputs": [
    {
     "data": {
      "text/plain": [
       "'We are in uncharted waters'"
      ]
     },
     "execution_count": 26,
     "metadata": {},
     "output_type": "execute_result"
    }
   ],
   "source": [
    "a + s + d + f"
   ]
  },
  {
   "cell_type": "code",
   "execution_count": 27,
   "id": "c603f422",
   "metadata": {},
   "outputs": [],
   "source": [
    "p = 'Corgis '"
   ]
  },
  {
   "cell_type": "code",
   "execution_count": 31,
   "id": "41b456ba",
   "metadata": {},
   "outputs": [],
   "source": [
    "o = 'are '"
   ]
  },
  {
   "cell_type": "code",
   "execution_count": 29,
   "id": "54885b31",
   "metadata": {},
   "outputs": [],
   "source": [
    "i = 'small'"
   ]
  },
  {
   "cell_type": "code",
   "execution_count": 32,
   "id": "5404ab7d",
   "metadata": {},
   "outputs": [
    {
     "data": {
      "text/plain": [
       "'Corgis are small'"
      ]
     },
     "execution_count": 32,
     "metadata": {},
     "output_type": "execute_result"
    }
   ],
   "source": [
    "p + o + i"
   ]
  },
  {
   "cell_type": "code",
   "execution_count": null,
   "id": "7b19ddbe",
   "metadata": {},
   "outputs": [],
   "source": []
  }
 ],
 "metadata": {
  "kernelspec": {
   "display_name": "Python 3 (ipykernel)",
   "language": "python",
   "name": "python3"
  },
  "language_info": {
   "codemirror_mode": {
    "name": "ipython",
    "version": 3
   },
   "file_extension": ".py",
   "mimetype": "text/x-python",
   "name": "python",
   "nbconvert_exporter": "python",
   "pygments_lexer": "ipython3",
   "version": "3.11.3"
  }
 },
 "nbformat": 4,
 "nbformat_minor": 5
}
